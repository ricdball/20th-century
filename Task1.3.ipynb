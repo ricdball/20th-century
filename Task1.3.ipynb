{
 "cells": [
  {
   "cell_type": "markdown",
   "id": "c1f7bdbf-c577-4188-9f9d-b0bef57ec09a",
   "metadata": {},
   "source": [
    "## Importing Libraries"
   ]
  },
  {
   "cell_type": "code",
   "execution_count": 1,
   "id": "3b9c951c-e876-4f20-8795-ec72511cab9b",
   "metadata": {},
   "outputs": [],
   "source": [
    "# Libraries\n",
    "\n",
    "import pandas as pd\n",
    "import numpy as np"
   ]
  },
  {
   "cell_type": "markdown",
   "id": "d85fdafa-b4a4-4ea6-90bd-9c4fe1865d34",
   "metadata": {},
   "source": [
    "## Creating DataFrame"
   ]
  },
  {
   "cell_type": "code",
   "execution_count": 7,
   "id": "f6745c17-be31-473e-b09a-fcdfb863ac3a",
   "metadata": {},
   "outputs": [],
   "source": [
    "# Created dataframe monitors salesperson, their sales rep status in the company, and their earnings sold for the year.\n",
    "\n",
    "df=pd.DataFrame({\"Salesperson\":[\"Alice\",\"Bob\",\"Charlie\",\"Diana\",\"Eve\"],\"Rep Status\":[\"Senior\",\"Senior\",\"Junior\",\"Mid-Level\",\"Junior\"],\"Sales\":[1200000,700000,350000,850000,450000]})"
   ]
  },
  {
   "cell_type": "code",
   "execution_count": 8,
   "id": "2b937652-5ca8-4e27-a976-cea5ffd4c19e",
   "metadata": {},
   "outputs": [
    {
     "data": {
      "text/html": [
       "<div>\n",
       "<style scoped>\n",
       "    .dataframe tbody tr th:only-of-type {\n",
       "        vertical-align: middle;\n",
       "    }\n",
       "\n",
       "    .dataframe tbody tr th {\n",
       "        vertical-align: top;\n",
       "    }\n",
       "\n",
       "    .dataframe thead th {\n",
       "        text-align: right;\n",
       "    }\n",
       "</style>\n",
       "<table border=\"1\" class=\"dataframe\">\n",
       "  <thead>\n",
       "    <tr style=\"text-align: right;\">\n",
       "      <th></th>\n",
       "      <th>Salesperson</th>\n",
       "      <th>Rep Status</th>\n",
       "      <th>Sales</th>\n",
       "    </tr>\n",
       "  </thead>\n",
       "  <tbody>\n",
       "    <tr>\n",
       "      <th>0</th>\n",
       "      <td>Alice</td>\n",
       "      <td>Senior</td>\n",
       "      <td>1200000</td>\n",
       "    </tr>\n",
       "    <tr>\n",
       "      <th>1</th>\n",
       "      <td>Bob</td>\n",
       "      <td>Senior</td>\n",
       "      <td>700000</td>\n",
       "    </tr>\n",
       "    <tr>\n",
       "      <th>2</th>\n",
       "      <td>Charlie</td>\n",
       "      <td>Junior</td>\n",
       "      <td>350000</td>\n",
       "    </tr>\n",
       "    <tr>\n",
       "      <th>3</th>\n",
       "      <td>Diana</td>\n",
       "      <td>Mid-Level</td>\n",
       "      <td>850000</td>\n",
       "    </tr>\n",
       "    <tr>\n",
       "      <th>4</th>\n",
       "      <td>Eve</td>\n",
       "      <td>Junior</td>\n",
       "      <td>450000</td>\n",
       "    </tr>\n",
       "  </tbody>\n",
       "</table>\n",
       "</div>"
      ],
      "text/plain": [
       "  Salesperson Rep Status    Sales\n",
       "0       Alice     Senior  1200000\n",
       "1         Bob     Senior   700000\n",
       "2     Charlie     Junior   350000\n",
       "3       Diana  Mid-Level   850000\n",
       "4         Eve     Junior   450000"
      ]
     },
     "execution_count": 8,
     "metadata": {},
     "output_type": "execute_result"
    }
   ],
   "source": [
    "df.head()"
   ]
  },
  {
   "cell_type": "markdown",
   "id": "34072f64-3865-457b-a596-26ee6af72448",
   "metadata": {},
   "source": [
    "## Creating New Column Using Mathematical Procedure with Lambda Function"
   ]
  },
  {
   "cell_type": "code",
   "execution_count": 11,
   "id": "7a720f90-a5c4-41a6-8e1a-6385f52f9049",
   "metadata": {},
   "outputs": [
    {
     "data": {
      "text/plain": [
       "0    33.80\n",
       "1    19.72\n",
       "2     9.86\n",
       "3    23.94\n",
       "4    12.68\n",
       "Name: Sales, dtype: float64"
      ]
     },
     "execution_count": 11,
     "metadata": {},
     "output_type": "execute_result"
    }
   ],
   "source": [
    "# Creating column showing percentage of overall sales salesperson held\n",
    "\n",
    "sales_percentage=lambda x:round(x/3550000*100,2)\n",
    "\n",
    "# putting assigned variable to use in lambda\n",
    "\n",
    "sales_percentage(df['Sales'])"
   ]
  },
  {
   "cell_type": "code",
   "execution_count": 13,
   "id": "2101d11c-c91e-4e94-95f5-9661bf5a67f2",
   "metadata": {},
   "outputs": [],
   "source": [
    "# Creating New Column Based on Sales Percentage Found in above Lambda Function\n",
    "\n",
    "df[\"Rep_Percentage_of_Total_Sales\"]=sales_percentage(df[\"Sales\"])"
   ]
  },
  {
   "cell_type": "code",
   "execution_count": 14,
   "id": "ed41c906-fe7a-4be7-929a-1ba7ac127d81",
   "metadata": {},
   "outputs": [
    {
     "data": {
      "text/html": [
       "<div>\n",
       "<style scoped>\n",
       "    .dataframe tbody tr th:only-of-type {\n",
       "        vertical-align: middle;\n",
       "    }\n",
       "\n",
       "    .dataframe tbody tr th {\n",
       "        vertical-align: top;\n",
       "    }\n",
       "\n",
       "    .dataframe thead th {\n",
       "        text-align: right;\n",
       "    }\n",
       "</style>\n",
       "<table border=\"1\" class=\"dataframe\">\n",
       "  <thead>\n",
       "    <tr style=\"text-align: right;\">\n",
       "      <th></th>\n",
       "      <th>Salesperson</th>\n",
       "      <th>Rep Status</th>\n",
       "      <th>Sales</th>\n",
       "      <th>Rep_Percentage_of_Total_Sales</th>\n",
       "    </tr>\n",
       "  </thead>\n",
       "  <tbody>\n",
       "    <tr>\n",
       "      <th>0</th>\n",
       "      <td>Alice</td>\n",
       "      <td>Senior</td>\n",
       "      <td>1200000</td>\n",
       "      <td>33.80</td>\n",
       "    </tr>\n",
       "    <tr>\n",
       "      <th>1</th>\n",
       "      <td>Bob</td>\n",
       "      <td>Senior</td>\n",
       "      <td>700000</td>\n",
       "      <td>19.72</td>\n",
       "    </tr>\n",
       "    <tr>\n",
       "      <th>2</th>\n",
       "      <td>Charlie</td>\n",
       "      <td>Junior</td>\n",
       "      <td>350000</td>\n",
       "      <td>9.86</td>\n",
       "    </tr>\n",
       "    <tr>\n",
       "      <th>3</th>\n",
       "      <td>Diana</td>\n",
       "      <td>Mid-Level</td>\n",
       "      <td>850000</td>\n",
       "      <td>23.94</td>\n",
       "    </tr>\n",
       "    <tr>\n",
       "      <th>4</th>\n",
       "      <td>Eve</td>\n",
       "      <td>Junior</td>\n",
       "      <td>450000</td>\n",
       "      <td>12.68</td>\n",
       "    </tr>\n",
       "  </tbody>\n",
       "</table>\n",
       "</div>"
      ],
      "text/plain": [
       "  Salesperson Rep Status    Sales  Rep_Percentage_of_Total_Sales\n",
       "0       Alice     Senior  1200000                          33.80\n",
       "1         Bob     Senior   700000                          19.72\n",
       "2     Charlie     Junior   350000                           9.86\n",
       "3       Diana  Mid-Level   850000                          23.94\n",
       "4         Eve     Junior   450000                          12.68"
      ]
     },
     "execution_count": 14,
     "metadata": {},
     "output_type": "execute_result"
    }
   ],
   "source": [
    "df.head()"
   ]
  },
  {
   "cell_type": "markdown",
   "id": "a63b2ea9-799a-4435-a085-93abb2745810",
   "metadata": {},
   "source": [
    "## Creating Flag Column"
   ]
  },
  {
   "cell_type": "code",
   "execution_count": 15,
   "id": "a930a630-c87a-4d6f-a9eb-39677f50dd0e",
   "metadata": {},
   "outputs": [
    {
     "data": {
      "text/html": [
       "<div>\n",
       "<style scoped>\n",
       "    .dataframe tbody tr th:only-of-type {\n",
       "        vertical-align: middle;\n",
       "    }\n",
       "\n",
       "    .dataframe tbody tr th {\n",
       "        vertical-align: top;\n",
       "    }\n",
       "\n",
       "    .dataframe thead th {\n",
       "        text-align: right;\n",
       "    }\n",
       "</style>\n",
       "<table border=\"1\" class=\"dataframe\">\n",
       "  <thead>\n",
       "    <tr style=\"text-align: right;\">\n",
       "      <th></th>\n",
       "      <th>Salesperson</th>\n",
       "      <th>Rep Status</th>\n",
       "      <th>Sales</th>\n",
       "      <th>Rep_Percentage_of_Total_Sales</th>\n",
       "      <th>Earning_Rank</th>\n",
       "    </tr>\n",
       "  </thead>\n",
       "  <tbody>\n",
       "    <tr>\n",
       "      <th>0</th>\n",
       "      <td>Alice</td>\n",
       "      <td>Senior</td>\n",
       "      <td>1200000</td>\n",
       "      <td>33.80</td>\n",
       "      <td>High Earner</td>\n",
       "    </tr>\n",
       "    <tr>\n",
       "      <th>1</th>\n",
       "      <td>Bob</td>\n",
       "      <td>Senior</td>\n",
       "      <td>700000</td>\n",
       "      <td>19.72</td>\n",
       "      <td>Average Earner</td>\n",
       "    </tr>\n",
       "    <tr>\n",
       "      <th>2</th>\n",
       "      <td>Charlie</td>\n",
       "      <td>Junior</td>\n",
       "      <td>350000</td>\n",
       "      <td>9.86</td>\n",
       "      <td>Low Earner</td>\n",
       "    </tr>\n",
       "    <tr>\n",
       "      <th>3</th>\n",
       "      <td>Diana</td>\n",
       "      <td>Mid-Level</td>\n",
       "      <td>850000</td>\n",
       "      <td>23.94</td>\n",
       "      <td>Average Earner</td>\n",
       "    </tr>\n",
       "    <tr>\n",
       "      <th>4</th>\n",
       "      <td>Eve</td>\n",
       "      <td>Junior</td>\n",
       "      <td>450000</td>\n",
       "      <td>12.68</td>\n",
       "      <td>Low Earner</td>\n",
       "    </tr>\n",
       "  </tbody>\n",
       "</table>\n",
       "</div>"
      ],
      "text/plain": [
       "  Salesperson Rep Status    Sales  Rep_Percentage_of_Total_Sales  \\\n",
       "0       Alice     Senior  1200000                          33.80   \n",
       "1         Bob     Senior   700000                          19.72   \n",
       "2     Charlie     Junior   350000                           9.86   \n",
       "3       Diana  Mid-Level   850000                          23.94   \n",
       "4         Eve     Junior   450000                          12.68   \n",
       "\n",
       "     Earning_Rank  \n",
       "0     High Earner  \n",
       "1  Average Earner  \n",
       "2      Low Earner  \n",
       "3  Average Earner  \n",
       "4      Low Earner  "
      ]
     },
     "execution_count": 15,
     "metadata": {},
     "output_type": "execute_result"
    }
   ],
   "source": [
    "# Creating Flag Column of Earner Ranking based on sales\n",
    "\n",
    "df['Earning_Rank']=df['Sales'].apply(lambda x:'High Earner' if x>1000000 else ('Low Earner' if x<=500000 else 'Average Earner'))\n",
    "\n",
    "df"
   ]
  },
  {
   "cell_type": "code",
   "execution_count": 18,
   "id": "419c7154-e405-40cf-aa55-545791cc1bf8",
   "metadata": {},
   "outputs": [],
   "source": [
    "# Creating flag with Earner Rank column to show which who gets bonus and who does not.\n",
    "\n",
    "df[\"Bonus_Eligibility\" ]=df[\"Earning_Rank\"].apply(lambda x: \"Bonus\" if x==\"High Earner\" else \"No Bonus\")"
   ]
  },
  {
   "cell_type": "code",
   "execution_count": 19,
   "id": "f37ccce6-1aaf-4b73-ae96-4360c0d4509a",
   "metadata": {},
   "outputs": [
    {
     "data": {
      "text/html": [
       "<div>\n",
       "<style scoped>\n",
       "    .dataframe tbody tr th:only-of-type {\n",
       "        vertical-align: middle;\n",
       "    }\n",
       "\n",
       "    .dataframe tbody tr th {\n",
       "        vertical-align: top;\n",
       "    }\n",
       "\n",
       "    .dataframe thead th {\n",
       "        text-align: right;\n",
       "    }\n",
       "</style>\n",
       "<table border=\"1\" class=\"dataframe\">\n",
       "  <thead>\n",
       "    <tr style=\"text-align: right;\">\n",
       "      <th></th>\n",
       "      <th>Salesperson</th>\n",
       "      <th>Rep Status</th>\n",
       "      <th>Sales</th>\n",
       "      <th>Rep_Percentage_of_Total_Sales</th>\n",
       "      <th>Earning_Rank</th>\n",
       "      <th>Bonus_Eligibility</th>\n",
       "    </tr>\n",
       "  </thead>\n",
       "  <tbody>\n",
       "    <tr>\n",
       "      <th>0</th>\n",
       "      <td>Alice</td>\n",
       "      <td>Senior</td>\n",
       "      <td>1200000</td>\n",
       "      <td>33.80</td>\n",
       "      <td>High Earner</td>\n",
       "      <td>Bonus</td>\n",
       "    </tr>\n",
       "    <tr>\n",
       "      <th>1</th>\n",
       "      <td>Bob</td>\n",
       "      <td>Senior</td>\n",
       "      <td>700000</td>\n",
       "      <td>19.72</td>\n",
       "      <td>Average Earner</td>\n",
       "      <td>No Bonus</td>\n",
       "    </tr>\n",
       "    <tr>\n",
       "      <th>2</th>\n",
       "      <td>Charlie</td>\n",
       "      <td>Junior</td>\n",
       "      <td>350000</td>\n",
       "      <td>9.86</td>\n",
       "      <td>Low Earner</td>\n",
       "      <td>No Bonus</td>\n",
       "    </tr>\n",
       "    <tr>\n",
       "      <th>3</th>\n",
       "      <td>Diana</td>\n",
       "      <td>Mid-Level</td>\n",
       "      <td>850000</td>\n",
       "      <td>23.94</td>\n",
       "      <td>Average Earner</td>\n",
       "      <td>No Bonus</td>\n",
       "    </tr>\n",
       "    <tr>\n",
       "      <th>4</th>\n",
       "      <td>Eve</td>\n",
       "      <td>Junior</td>\n",
       "      <td>450000</td>\n",
       "      <td>12.68</td>\n",
       "      <td>Low Earner</td>\n",
       "      <td>No Bonus</td>\n",
       "    </tr>\n",
       "  </tbody>\n",
       "</table>\n",
       "</div>"
      ],
      "text/plain": [
       "  Salesperson Rep Status    Sales  Rep_Percentage_of_Total_Sales  \\\n",
       "0       Alice     Senior  1200000                          33.80   \n",
       "1         Bob     Senior   700000                          19.72   \n",
       "2     Charlie     Junior   350000                           9.86   \n",
       "3       Diana  Mid-Level   850000                          23.94   \n",
       "4         Eve     Junior   450000                          12.68   \n",
       "\n",
       "     Earning_Rank Bonus_Eligibility  \n",
       "0     High Earner             Bonus  \n",
       "1  Average Earner          No Bonus  \n",
       "2      Low Earner          No Bonus  \n",
       "3  Average Earner          No Bonus  \n",
       "4      Low Earner          No Bonus  "
      ]
     },
     "execution_count": 19,
     "metadata": {},
     "output_type": "execute_result"
    }
   ],
   "source": [
    "df.head()"
   ]
  },
  {
   "cell_type": "code",
   "execution_count": null,
   "id": "c25bb49b-3120-4997-8e57-771ff1e6631f",
   "metadata": {},
   "outputs": [],
   "source": []
  }
 ],
 "metadata": {
  "kernelspec": {
   "display_name": "Python [conda env:venv_alice]",
   "language": "python",
   "name": "conda-env-venv_alice-py"
  },
  "language_info": {
   "codemirror_mode": {
    "name": "ipython",
    "version": 3
   },
   "file_extension": ".py",
   "mimetype": "text/x-python",
   "name": "python",
   "nbconvert_exporter": "python",
   "pygments_lexer": "ipython3",
   "version": "3.12.5"
  }
 },
 "nbformat": 4,
 "nbformat_minor": 5
}
